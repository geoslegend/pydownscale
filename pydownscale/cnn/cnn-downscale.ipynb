{
 "cells": [
  {
   "cell_type": "code",
   "execution_count": 123,
   "metadata": {
    "collapsed": false
   },
   "outputs": [],
   "source": [
    "import pickle\n",
    "import tensorflow as tf\n",
    "import numpy as np\n",
    "import matplotlib.pyplot as plt\n",
    "import xray as xr\n",
    "import pandas as pd\n",
    "from sklearn.preprocessing import StandardScaler\n",
    "from sklearn.metrics import roc_auc_score\n",
    "\n",
    "%matplotlib inline\n",
    "\n",
    "import sys\n",
    "sys.path.append(\"/Users/tj/repos/pydownscale/\")\n",
    "from pydownscale.MSSL import pMSSL\n",
    "from pydownscale.data import DownscaleData\n",
    "from pydownscale.utils import RootTransform\n"
   ]
  },
  {
   "cell_type": "code",
   "execution_count": 2,
   "metadata": {
    "collapsed": false
   },
   "outputs": [],
   "source": [
    "data = pickle.load(open(\"newengland_D_12781_8835.pkl\", \"r\"))\n",
    "\n"
   ]
  },
  {
   "cell_type": "code",
   "execution_count": 124,
   "metadata": {
    "collapsed": false
   },
   "outputs": [
    {
     "name": "stdout",
     "output_type": "stream",
     "text": [
      "(2300, 266) (2300, 19, 31, 15)\n"
     ]
    }
   ],
   "source": [
    "max_train_year = 2004\n",
    "seas = \"JJA\"\n",
    "seasonidxs = np.where(data.observations['time.season'] == seas)[0]\n",
    "X = data.get_XTensor()[seasonidxs]\n",
    "Y, locs = data.get_y()\n",
    "Y = Y[seasonidxs]\n",
    "t = data.observations['time'][seasonidxs]\n",
    "\n",
    "train_rows = np.where(t['time.year'] <= max_train_year)[0]\n",
    "test_rows = np.where(t['time.year'] > max_train_year)[0]\n",
    "ttest = t[test_rows]\n",
    "\n",
    "Xtrain, Xtest = X[train_rows], X[test_rows]\n",
    "YtrainTrue, YtestTrue = Y[train_rows], Y[test_rows]\n",
    "\n",
    "Xmu, Xsd = Xtrain.mean(axis=0), Xtrain.std(axis=0)\n",
    "Xtrain = (Xtrain - Xmu) / Xsd\n",
    "Xtest = (Xtest - Xmu) / Xsd\n",
    "\n",
    "scale_y = RootTransform(0.25)\n",
    "scale_y.fit(YtrainTrue)\n",
    "Ytrain = scale_y.transform(YtrainTrue)\n",
    "Ytest = scale_y.transform(YtestTrue)\n",
    "\n",
    "print Ytrain.shape, Xtrain.shape\n",
    "\n",
    "\n"
   ]
  },
  {
   "cell_type": "code",
   "execution_count": 125,
   "metadata": {
    "collapsed": true
   },
   "outputs": [],
   "source": [
    "#As per Section 3.2, we set f1 = 9, f3 = 5, n1 = 64 \n",
    "#    and n2 = 32 in our main evaluations\n",
    "def weight_variable(shape):\n",
    "  initial = tf.truncated_normal(shape, stddev=0.1)\n",
    "  return tf.Variable(initial)\n",
    "\n",
    "def bias_variable(shape):\n",
    "  initial = tf.constant(0.1, shape=shape)\n",
    "  return tf.Variable(initial)\n",
    "\n",
    "def conv2d(x, W):\n",
    "  return tf.nn.conv2d(x, W, strides=[1, 1, 1, 1], padding='VALID')\n",
    "\n",
    "def max_pool_2x2(x):\n",
    "  return tf.nn.max_pool(x, ksize=[1, 2, 2, 1],\n",
    "                        strides=[1, 2, 2, 1], padding='SAME')\n",
    "\n",
    "def max_pool_3x3(x):\n",
    "  return tf.nn.max_pool(x, ksize=[1, 3, 3, 1],\n",
    "                        strides=[1, 3, 3, 1], padding='SAME')\n",
    "\n",
    "def max_pool_6x6(x):\n",
    "  return tf.nn.max_pool(x, ksize=[1, 3, 3, 1],\n",
    "                        strides=[1, 3, 3, 1], padding='SAME')\n"
   ]
  },
  {
   "cell_type": "markdown",
   "metadata": {},
   "source": [
    "# First Convolution Layer\n",
    "\n",
    "$W_1 = c \\times f_1 \\times f_1 \\times n_1$\n",
    "\n",
    "$B_1$ is of length $n_1$"
   ]
  },
  {
   "cell_type": "code",
   "execution_count": 153,
   "metadata": {
    "collapsed": false
   },
   "outputs": [],
   "source": [
    "class CNNDownscale:\n",
    "    def __init__(self, how='regression', sess=None):\n",
    "        self.how = how\n",
    "        self.sess = sess\n",
    "        if self.sess is None:\n",
    "            self.sess = tf.InteractiveSession()\n",
    "            \n",
    "    \n",
    "    def fit(self, X, y):\n",
    "        c0 = 15  # number of input channels\n",
    "        c1 = 5\n",
    "        c2 = 1\n",
    "        \n",
    "        numt, numx, numy, numc = X.shape\n",
    "        \n",
    "        self.x_ = tf.placeholder(tf.float32, shape=[None, numx, numy, numc])\n",
    "        self.y_ = tf.placeholder(tf.float32, shape=[None, y.shape[1]])\n",
    "\n",
    "        W_conv1 = weight_variable([3, 3, c0, c1])\n",
    "        b_conv1 = bias_variable([c1])\n",
    "        h_conv1 = tf.nn.relu(conv2d(self.x_, W_conv1) + b_conv1)\n",
    "        h_pool1 = max_pool_2x2(h_conv1)\n",
    "\n",
    "        W_conv2 = weight_variable([3, 3, c1, c2])\n",
    "        b_conv2 = bias_variable([c2])\n",
    "        h_conv2 =  tf.nn.relu(conv2d(h_pool1, W_conv2) + b_conv2)\n",
    "        h_pool2 = max_pool_2x2(h_conv2)\n",
    "\n",
    "        _, d1, d2, d3 = h_pool2.get_shape()\n",
    "        h2units = d1.value * d2.value * d3.value\n",
    "        h_pool2_flat = tf.reshape(h_pool2, [-1, h2units])\n",
    "\n",
    "        self.keep_prob = tf.placeholder(tf.float32)\n",
    "        h_pool2_drop = tf.nn.dropout(h_pool2_flat, self.keep_prob)\n",
    "\n",
    "        Wout = weight_variable([h2units, y.shape[1]])\n",
    "        b_out = bias_variable([y.shape[1]])\n",
    "        \n",
    "        if self.how == 'regression':\n",
    "            self.yout = tf.matmul(h_pool2_flat, Wout) + b_out \n",
    "            loss = tf.reduce_mean(tf.square((self.yout - self.y_)))\n",
    "        elif self.how == 'classify':\n",
    "            self.yout = tf.sigmoid(tf.matmul(h_pool2_flat, Wout) + b_out)\n",
    "            #-log P(yt|yp) = -(yt log(yp) + (1 - yt) log(1 - yp))\n",
    "            loss = -tf.reduce_mean((self.y_ * tf.log(self.yout) + \n",
    "                                (1 - self.y_) * tf.log(1 + 1e-6 - self.yout)))\n",
    "\n",
    "        train_step = tf.train.AdamOptimizer(1e-2).minimize(loss)\n",
    "\n",
    "        #accuracy = tf.reduce_mean(tf.cast(correct_prediction, tf.float32))\n",
    "        self.sess.run(tf.initialize_all_variables())\n",
    "        for i in range(2000):\n",
    "          randidx = np.random.choice(range(X.shape[0]), 100)\n",
    "          if i % 200 == 0:\n",
    "            train_accuracy = loss.eval(feed_dict={\n",
    "                self.x_: X[randidx], self.y_: y[randidx], self.keep_prob: 1.0})\n",
    "            ypred = self.predict(X[randidx])\n",
    "            if self.how == 'classify':\n",
    "                print \"ROC: %g\" % roc_auc_score(y[randidx].flatten(), ypred.flatten())\n",
    "            \n",
    "            #print  np.histogram(ypred)\n",
    "            print(\"step %d, training mse %g\"%(i, train_accuracy))\n",
    "\n",
    "          train_step.run(feed_dict={self.x_: X[randidx], self.y_: y[randidx], self.keep_prob: 0.5})\n",
    "\n",
    "        print(\"train mse %g\"%loss.eval(feed_dict={\n",
    "            self.x_: X, self.y_: y, self.keep_prob: 1.0}))\n",
    "        ypred = self.predict(X)\n",
    "        if self.how == 'classify':\n",
    "            train_roc = roc_auc_score(y.flatten(), ypred.flatten())\n",
    "            print \"Train ROC: %g\" % train_roc\n",
    "\n",
    "    def predict(self, X):\n",
    "        ypred = self.sess.run(self.yout, feed_dict={self.x_: X, self.keep_prob: 1})\n",
    "        return ypred\n",
    "    \n",
    "    "
   ]
  },
  {
   "cell_type": "markdown",
   "metadata": {},
   "source": [
    "# Train Classification"
   ]
  },
  {
   "cell_type": "code",
   "execution_count": 154,
   "metadata": {
    "collapsed": false
   },
   "outputs": [
    {
     "name": "stdout",
     "output_type": "stream",
     "text": [
      "ROC: 0.50483\n",
      "step 0, training mse 0.735898\n",
      "ROC: 0.866316\n",
      "step 200, training mse 0.448439\n",
      "ROC: 0.864873\n",
      "step 400, training mse 0.440844\n",
      "ROC: 0.876039\n",
      "step 600, training mse 0.419409\n",
      "ROC: 0.871126\n",
      "step 800, training mse 0.431968\n",
      "ROC: 0.868567\n",
      "step 1000, training mse 0.418642\n",
      "ROC: 0.871334\n",
      "step 1200, training mse 0.433446\n",
      "ROC: 0.874618\n",
      "step 1400, training mse 0.407907\n",
      "ROC: 0.840517\n",
      "step 1600, training mse 0.476175\n",
      "ROC: 0.904783\n",
      "step 1800, training mse 0.372115\n",
      "train mse 0.437911\n",
      "Train ROC: 0.873208\n"
     ]
    },
    {
     "name": "stderr",
     "output_type": "stream",
     "text": [
      "Exception AssertionError: AssertionError() in <bound method InteractiveSession.__del__ of <tensorflow.python.client.session.InteractiveSession object at 0x133d1cfd0>> ignored\n"
     ]
    },
    {
     "ename": "AttributeError",
     "evalue": "'str' object has no attribute 'write'",
     "output_type": "error",
     "traceback": [
      "\u001b[0;31m---------------------------------------------------------------------------\u001b[0m",
      "\u001b[0;31mAttributeError\u001b[0m                            Traceback (most recent call last)",
      "\u001b[0;32m<ipython-input-154-0ecbbc924fd0>\u001b[0m in \u001b[0;36m<module>\u001b[0;34m()\u001b[0m\n\u001b[1;32m      5\u001b[0m \u001b[0mcnn_classify\u001b[0m\u001b[0;34m.\u001b[0m\u001b[0mfit\u001b[0m\u001b[0;34m(\u001b[0m\u001b[0mXtrain\u001b[0m\u001b[0;34m,\u001b[0m \u001b[0mytrain_classify\u001b[0m\u001b[0;34m)\u001b[0m\u001b[0;34m\u001b[0m\u001b[0m\n\u001b[1;32m      6\u001b[0m \u001b[0mypred\u001b[0m \u001b[0;34m=\u001b[0m \u001b[0mcnn_classify\u001b[0m\u001b[0;34m.\u001b[0m\u001b[0mpredict\u001b[0m\u001b[0;34m(\u001b[0m\u001b[0mXtest\u001b[0m\u001b[0;34m)\u001b[0m\u001b[0;34m\u001b[0m\u001b[0m\n\u001b[0;32m----> 7\u001b[0;31m \u001b[0mpickle\u001b[0m\u001b[0;34m.\u001b[0m\u001b[0mdump\u001b[0m\u001b[0;34m(\u001b[0m\u001b[0mypred\u001b[0m\u001b[0;34m,\u001b[0m \u001b[0;34m\"CNN_Classify_%s.pkl\"\u001b[0m \u001b[0;34m%\u001b[0m \u001b[0mseas\u001b[0m\u001b[0;34m)\u001b[0m\u001b[0;34m\u001b[0m\u001b[0m\n\u001b[0m\u001b[1;32m      8\u001b[0m \u001b[0;32mprint\u001b[0m \u001b[0;34m\"Test ROC: %g\"\u001b[0m \u001b[0;34m%\u001b[0m \u001b[0mroc_auc_score\u001b[0m\u001b[0;34m(\u001b[0m\u001b[0mytest_classify\u001b[0m\u001b[0;34m.\u001b[0m\u001b[0mflatten\u001b[0m\u001b[0;34m(\u001b[0m\u001b[0;34m)\u001b[0m\u001b[0;34m,\u001b[0m \u001b[0mypred\u001b[0m\u001b[0;34m.\u001b[0m\u001b[0mflatten\u001b[0m\u001b[0;34m(\u001b[0m\u001b[0;34m)\u001b[0m\u001b[0;34m)\u001b[0m\u001b[0;34m\u001b[0m\u001b[0m\n\u001b[1;32m      9\u001b[0m \u001b[0;34m\u001b[0m\u001b[0m\n",
      "\u001b[0;32m/Users/tj/anaconda/lib/python2.7/pickle.pyc\u001b[0m in \u001b[0;36mdump\u001b[0;34m(obj, file, protocol)\u001b[0m\n\u001b[1;32m   1374\u001b[0m \u001b[0;34m\u001b[0m\u001b[0m\n\u001b[1;32m   1375\u001b[0m \u001b[0;32mdef\u001b[0m \u001b[0mdump\u001b[0m\u001b[0;34m(\u001b[0m\u001b[0mobj\u001b[0m\u001b[0;34m,\u001b[0m \u001b[0mfile\u001b[0m\u001b[0;34m,\u001b[0m \u001b[0mprotocol\u001b[0m\u001b[0;34m=\u001b[0m\u001b[0mNone\u001b[0m\u001b[0;34m)\u001b[0m\u001b[0;34m:\u001b[0m\u001b[0;34m\u001b[0m\u001b[0m\n\u001b[0;32m-> 1376\u001b[0;31m     \u001b[0mPickler\u001b[0m\u001b[0;34m(\u001b[0m\u001b[0mfile\u001b[0m\u001b[0;34m,\u001b[0m \u001b[0mprotocol\u001b[0m\u001b[0;34m)\u001b[0m\u001b[0;34m.\u001b[0m\u001b[0mdump\u001b[0m\u001b[0;34m(\u001b[0m\u001b[0mobj\u001b[0m\u001b[0;34m)\u001b[0m\u001b[0;34m\u001b[0m\u001b[0m\n\u001b[0m\u001b[1;32m   1377\u001b[0m \u001b[0;34m\u001b[0m\u001b[0m\n\u001b[1;32m   1378\u001b[0m \u001b[0;32mdef\u001b[0m \u001b[0mdumps\u001b[0m\u001b[0;34m(\u001b[0m\u001b[0mobj\u001b[0m\u001b[0;34m,\u001b[0m \u001b[0mprotocol\u001b[0m\u001b[0;34m=\u001b[0m\u001b[0mNone\u001b[0m\u001b[0;34m)\u001b[0m\u001b[0;34m:\u001b[0m\u001b[0;34m\u001b[0m\u001b[0m\n",
      "\u001b[0;32m/Users/tj/anaconda/lib/python2.7/pickle.pyc\u001b[0m in \u001b[0;36m__init__\u001b[0;34m(self, file, protocol)\u001b[0m\n\u001b[1;32m    201\u001b[0m         \u001b[0;32melif\u001b[0m \u001b[0;32mnot\u001b[0m \u001b[0;36m0\u001b[0m \u001b[0;34m<=\u001b[0m \u001b[0mprotocol\u001b[0m \u001b[0;34m<=\u001b[0m \u001b[0mHIGHEST_PROTOCOL\u001b[0m\u001b[0;34m:\u001b[0m\u001b[0;34m\u001b[0m\u001b[0m\n\u001b[1;32m    202\u001b[0m             \u001b[0;32mraise\u001b[0m \u001b[0mValueError\u001b[0m\u001b[0;34m(\u001b[0m\u001b[0;34m\"pickle protocol must be <= %d\"\u001b[0m \u001b[0;34m%\u001b[0m \u001b[0mHIGHEST_PROTOCOL\u001b[0m\u001b[0;34m)\u001b[0m\u001b[0;34m\u001b[0m\u001b[0m\n\u001b[0;32m--> 203\u001b[0;31m         \u001b[0mself\u001b[0m\u001b[0;34m.\u001b[0m\u001b[0mwrite\u001b[0m \u001b[0;34m=\u001b[0m \u001b[0mfile\u001b[0m\u001b[0;34m.\u001b[0m\u001b[0mwrite\u001b[0m\u001b[0;34m\u001b[0m\u001b[0m\n\u001b[0m\u001b[1;32m    204\u001b[0m         \u001b[0mself\u001b[0m\u001b[0;34m.\u001b[0m\u001b[0mmemo\u001b[0m \u001b[0;34m=\u001b[0m \u001b[0;34m{\u001b[0m\u001b[0;34m}\u001b[0m\u001b[0;34m\u001b[0m\u001b[0m\n\u001b[1;32m    205\u001b[0m         \u001b[0mself\u001b[0m\u001b[0;34m.\u001b[0m\u001b[0mproto\u001b[0m \u001b[0;34m=\u001b[0m \u001b[0mint\u001b[0m\u001b[0;34m(\u001b[0m\u001b[0mprotocol\u001b[0m\u001b[0;34m)\u001b[0m\u001b[0;34m\u001b[0m\u001b[0m\n",
      "\u001b[0;31mAttributeError\u001b[0m: 'str' object has no attribute 'write'"
     ]
    }
   ],
   "source": [
    "cnn_classify = CNNDownscale(sess=tf.InteractiveSession(), how='classify')\n",
    "ytrain_classify = (Y[train_rows] > 10.)*1.\n",
    "ytest_classify = (Y[test_rows] > 10.)*1.\n",
    "\n",
    "cnn_classify.fit(Xtrain, ytrain_classify)\n",
    "ypred = cnn_classify.predict(Xtest)\n",
    "print \"Test ROC: %g\" % roc_auc_score(ytest_classify.flatten(), ypred.flatten())\n",
    "\n",
    "\n",
    "\n"
   ]
  },
  {
   "cell_type": "code",
   "execution_count": 155,
   "metadata": {
    "collapsed": false
   },
   "outputs": [],
   "source": [
    "pickle.dump(ypred, open(\"CNN_Classify_%s.pkl\" % seas, 'w'))"
   ]
  },
  {
   "cell_type": "markdown",
   "metadata": {},
   "source": [
    "# Train Regression"
   ]
  },
  {
   "cell_type": "code",
   "execution_count": 156,
   "metadata": {
    "collapsed": false
   },
   "outputs": [
    {
     "name": "stdout",
     "output_type": "stream",
     "text": [
      "step 0, training mse 0.945655\n",
      "step 200, training mse 0.594709\n",
      "step 400, training mse 0.531375\n",
      "step 600, training mse 0.499387\n",
      "step 800, training mse 0.530753\n",
      "step 1000, training mse 0.528534\n",
      "step 1200, training mse 0.44032\n",
      "step 1400, training mse 0.471222\n",
      "step 1600, training mse 0.5385\n",
      "step 1800, training mse 0.477584\n",
      "train mse 0.4789\n"
     ]
    },
    {
     "name": "stderr",
     "output_type": "stream",
     "text": [
      "Exception AssertionError: AssertionError() in <bound method InteractiveSession.__del__ of <tensorflow.python.client.session.InteractiveSession object at 0x133c5b190>> ignored\n"
     ]
    },
    {
     "data": {
      "text/plain": [
       "array([[ 0.85341179,  0.85853082,  0.85958332, ...,  0.0992586 ,\n",
       "        -0.05797702, -0.02914768],\n",
       "       [ 0.45213723,  0.45088699,  0.48141041, ...,  0.46936506,\n",
       "         0.79064357,  0.77319026],\n",
       "       [ 0.27617598,  0.24243647,  0.25090271, ...,  1.0742383 ,\n",
       "         1.09279335,  1.14753437],\n",
       "       ..., \n",
       "       [ 0.30443865,  0.17658317,  0.11597943, ..., -0.37189156,\n",
       "        -0.18768317, -0.26393396],\n",
       "       [ 1.22076702,  1.18761945,  1.17345321, ..., -0.45131058,\n",
       "        -0.0917086 , -0.30398709],\n",
       "       [ 0.87797081,  0.91821671,  0.95469713, ...,  1.00141752,\n",
       "         0.87977076,  0.89368415]], dtype=float32)"
      ]
     },
     "execution_count": 156,
     "metadata": {},
     "output_type": "execute_result"
    }
   ],
   "source": [
    "precip_rows = (Y[train_rows] > 10.).mean(axis=1) > 0.10\n",
    "\n",
    "Ytrain_reg = Ytrain[precip_rows]\n",
    "Xtrain_reg = Xtrain[precip_rows]\n",
    "\n",
    "cnn_reg = CNNDownscale(sess=tf.InteractiveSession())\n",
    "cnn_reg.fit(Xtrain, Ytrain)\n",
    "cnn_reg.predict(Xtrain)\n"
   ]
  },
  {
   "cell_type": "code",
   "execution_count": 157,
   "metadata": {
    "collapsed": false
   },
   "outputs": [
    {
     "name": "stdout",
     "output_type": "stream",
     "text": [
      "Test Mean 1.723418, Std: 8.505223\n",
      "Prediction Mean 1.723418, Std: 8.505223\n",
      "Yhat shape (920, 266) Ytest shape (920, 266)\n",
      "SpearmanrResult(correlation=0.6251883221946154, pvalue=0.0)\n",
      "Pearson (0.50533557, 0.0)\n",
      "RMSE: 7.73242335501\n"
     ]
    },
    {
     "data": {
      "text/plain": [
       "(0, 140)"
      ]
     },
     "execution_count": 157,
     "metadata": {},
     "output_type": "execute_result"
    },
    {
     "data": {
      "image/png": "[encoded data removed]",
      "text/plain": [
       "<matplotlib.figure.Figure at 0x13d412fd0>"
      ]
     },
     "metadata": {},
     "output_type": "display_data"
    }
   ],
   "source": [
    "yclass = cnn_classify.predict(Xtest)\n",
    "ypred = cnn_reg.predict(Xtest)\n",
    "\n",
    "yhat = scale_y.inverse_transform(ypred) / 10\n",
    "ytest_true = scale_y.inverse_transform(Ytest) / 10\n",
    "\n",
    "yhat *= yclass > 0.5\n",
    "\n",
    "from scipy.stats import pearsonr, spearmanr\n",
    "\n",
    "print \"Test Mean %f, Std: %f\" % (yhat.mean(), ytest_true.std())\n",
    "print \"Prediction Mean %f, Std: %f\" % (yhat.mean(), ytest_true.std())\n",
    "print \"Yhat shape\", yhat.shape, \"Ytest shape\", Ytest.shape\n",
    "\n",
    "print spearmanr(yhat.flatten(), ytest_true.flatten())\n",
    "print \"Pearson\", pearsonr(yhat.flatten(), ytest_true.flatten())\n",
    "print \"RMSE:\", np.mean((yhat - ytest_true)**2)**(0.5)\n",
    "\n",
    "plt.figure(figsize=(12, 8))\n",
    "plt.scatter(ytest_true, yhat, alpha=0.01)\n",
    "plt.xlim([0, 140])\n",
    "plt.ylim([0, 140])\n",
    "\n",
    "\n"
   ]
  },
  {
   "cell_type": "code",
   "execution_count": 158,
   "metadata": {
    "collapsed": false
   },
   "outputs": [
    {
     "data": {
      "text/plain": [
       "<matplotlib.text.Text at 0x1a32b6a90>"
      ]
     },
     "execution_count": 158,
     "metadata": {},
     "output_type": "execute_result"
    },
    {
     "data": {
      "image/png": "[encoded data removed]",
      "text/plain": [
       "<matplotlib.figure.Figure at 0x19d90b210>"
      ]
     },
     "metadata": {},
     "output_type": "display_data"
    }
   ],
   "source": [
    "import scipy\n",
    "def qqplot(x, y, ax=None, **kwargs):\n",
    "    _, xr = scipy.stats.probplot(x, fit=False)\n",
    "    _, yr = scipy.stats.probplot(y, fit=False)\n",
    "    if ax is None:\n",
    "        plt.scatter(xr, yr, **kwargs)\n",
    "    else:\n",
    "        ax.scatter(xr, yr, **kwargs)\n",
    "        \n",
    "        \n",
    "plt.figure(figsize=(12,8))\n",
    "qqplot(yhat.flatten(), ytest_true.flatten())\n",
    "plt.ylim([0, 200])\n",
    "plt.xlim([0, 200])\n",
    "plt.xlabel(\"Projected\")\n",
    "plt.ylabel(\"Observed\")\n"
   ]
  },
  {
   "cell_type": "markdown",
   "metadata": {},
   "source": [
    "# To Netcdf"
   ]
  },
  {
   "cell_type": "code",
   "execution_count": 111,
   "metadata": {
    "collapsed": false
   },
   "outputs": [
    {
     "name": "stdout",
     "output_type": "stream",
     "text": [
      "(920, 266) (920, 266) (266, 2) (3220,)\n"
     ]
    },
    {
     "data": {
      "text/plain": [
       "<xray.Dataset>\n",
       "Dimensions:       (lat: 24, lon: 27, time: 920)\n",
       "Coordinates:\n",
       "  * lat           (lat) float64 41.12 41.38 41.62 41.88 42.12 42.38 42.62 ...\n",
       "  * lon           (lon) float64 286.4 286.6 286.9 287.1 287.4 287.6 287.9 ...\n",
       "  * time          (time) datetime64[ns] 2005-06-01 2005-06-02 2005-06-03 ...\n",
       "Data variables:\n",
       "    ground_truth  (lat, lon, time) float64 0.0 0.0 0.0 87.98 0.6216 0.0 ...\n",
       "    projected     (lat, lon, time) float64 0.8872 1.732 6.583 4.783 -0.6235 ..."
      ]
     },
     "execution_count": 111,
     "metadata": {},
     "output_type": "execute_result"
    }
   ],
   "source": [
    "dfdata = []\n",
    "print ypred.shape, Ytest.shape, locs.shape, t.shape\n",
    "for j, (lat, lon) in enumerate(locs.values):\n",
    "    for i, t1 in enumerate(ttest.values):\n",
    "        d = dict(lat=lat, lon=lon, time=t1, projected=yhat[i,j], ground_truth=YtestTrue[i,j])\n",
    "        dfdata.append(d)\n",
    "df = pd.DataFrame(dfdata)\n",
    "df.set_index([\"lat\", \"lon\", \"time\"], inplace=True)\n",
    "dfx = xr.Dataset.from_dataframe(df)\n",
    "dfx\n"
   ]
  },
  {
   "cell_type": "code",
   "execution_count": 112,
   "metadata": {
    "collapsed": false
   },
   "outputs": [
    {
     "name": "stdout",
     "output_type": "stream",
     "text": [
      "<xray.Dataset>\n",
      "Dimensions:       (lat: 24, lon: 27, time: 920)\n",
      "Coordinates:\n",
      "  * lat           (lat) float64 41.12 41.38 41.62 41.88 42.12 42.38 42.62 ...\n",
      "  * lon           (lon) float64 286.4 286.6 286.9 287.1 287.4 287.6 287.9 ...\n",
      "  * time          (time) datetime64[ns] 2005-06-01 2005-06-02 2005-06-03 ...\n",
      "Data variables:\n",
      "    ground_truth  (lat, lon, time) float64 0.0 0.0 0.0 87.98 0.6216 0.0 ...\n",
      "    projected     (lat, lon, time) float64 0.8872 1.732 6.583 4.783 -0.6235 ...\n",
      "    error         (lat, lon, time) float64 0.8872 1.732 6.583 -83.2 -1.245 ...\n"
     ]
    }
   ],
   "source": [
    "dfx['error'] = dfx.projected - dfx.ground_truth\n",
    "print dfx\n",
    "dfx.to_netcdf(\"/Users/tj/repos/pydownscale/scripts/results-data/%s/CNN_D_%s.nc\" % (seas, seas))\n",
    "\n",
    "\n"
   ]
  },
  {
   "cell_type": "code",
   "execution_count": null,
   "metadata": {
    "collapsed": true
   },
   "outputs": [],
   "source": []
  }
 ],
 "metadata": {
  "kernelspec": {
   "display_name": "Python 2",
   "language": "python",
   "name": "python2"
  },
  "language_info": {
   "codemirror_mode": {
    "name": "ipython",
    "version": 2
   },
   "file_extension": ".py",
   "mimetype": "text/x-python",
   "name": "python",
   "nbconvert_exporter": "python",
   "pygments_lexer": "ipython2",
   "version": "2.7.11"
  }
 },
 "nbformat": 4,
 "nbformat_minor": 0
}
