{
 "cells": [
  {
   "cell_type": "code",
   "execution_count": 80,
   "metadata": {
    "collapsed": false
   },
   "outputs": [
    {
     "name": "stderr",
     "output_type": "stream",
     "text": [
      "Exception AssertionError: AssertionError() in <bound method InteractiveSession.__del__ of <tensorflow.python.client.session.InteractiveSession object at 0x115856810>> ignored\n"
     ]
    }
   ],
   "source": [
    "import pickle\n",
    "import tensorflow as tf\n",
    "import numpy as np\n",
    "import matplotlib.pyplot as plt\n",
    "import xray as xr\n",
    "import pandas as pd\n",
    "from pydownscale.data import DownscaleData\n",
    "from sklearn.preprocessing import StandardScaler\n",
    "\n",
    "%matplotlib inline\n",
    "sess = tf.InteractiveSession()\n"
   ]
  },
  {
   "cell_type": "code",
   "execution_count": 81,
   "metadata": {
    "collapsed": false
   },
   "outputs": [],
   "source": [
    "data = pickle.load(open(\"newengland_D_12781_8835.pkl\", \"r\"))"
   ]
  },
  {
   "cell_type": "code",
   "execution_count": 102,
   "metadata": {
    "collapsed": false
   },
   "outputs": [
    {
     "name": "stdout",
     "output_type": "stream",
     "text": [
      "Image size: 19 by 31\n",
      "(2300, 266) (2300, 19, 31, 15)\n"
     ]
    }
   ],
   "source": [
    "max_train_year = 2004\n",
    "seas = \"JJA\"\n",
    "seasonidxs = np.where(data.observations['time.season'] == seas)[0]\n",
    "X = data.get_XTensor()[seasonidxs]\n",
    "Y, locs = data.get_y()\n",
    "Y = Y[seasonidxs]\n",
    "t = data.observations['time'][seasonidxs]\n",
    "\n",
    "train_rows = np.where(t['time.year'] <= max_train_year)[0]\n",
    "test_rows = np.where(t['time.year'] > max_train_year)[0]\n",
    "ttest = t[test_rows]\n",
    "\n",
    "Xtrain, Xtest = X[train_rows], X[test_rows]\n",
    "YtrainTrue, YtestTrue = Y[train_rows], Y[test_rows]\n",
    "\n",
    "numt, numx, numy, numc = Xtrain.shape\n",
    "\n",
    "Xmu, Xsd = Xtrain.mean(axis=0), Xtrain.std(axis=0)\n",
    "Xtrain = (Xtrain - Xmu) / Xsd\n",
    "Xtest = (Xtest - Xmu) / Xsd\n",
    "\n",
    "scale_y = StandardScaler()\n",
    "scale_y.fit(YtrainTrue)\n",
    "Ytrain = scale_y.transform(YtrainTrue)\n",
    "Ytest = scale_y.transform(YtestTrue)\n",
    "\n",
    "print \"Image size:\", numx, \"by\", numy\n",
    "\n",
    "x = tf.placeholder(tf.float32, shape=[None, numx, numy, numc])\n",
    "y_ = tf.placeholder(tf.float32, shape=[None, Ytrain.shape[1]])\n",
    "\n",
    "print Ytrain.shape, Xtrain.shape"
   ]
  },
  {
   "cell_type": "code",
   "execution_count": 103,
   "metadata": {
    "collapsed": true
   },
   "outputs": [],
   "source": [
    "#As per Section 3.2, we set f1 = 9, f3 = 5, n1 = 64 \n",
    "#    and n2 = 32 in our main evaluations\n",
    "def weight_variable(shape):\n",
    "  initial = tf.truncated_normal(shape, stddev=0.1)\n",
    "  return tf.Variable(initial)\n",
    "\n",
    "def bias_variable(shape):\n",
    "  initial = tf.constant(0.1, shape=shape)\n",
    "  return tf.Variable(initial)\n",
    "\n",
    "def conv2d(x, W):\n",
    "  return tf.nn.conv2d(x, W, strides=[1, 1, 1, 1], padding='VALID')\n",
    "\n",
    "def max_pool_2x2(x):\n",
    "  return tf.nn.max_pool(x, ksize=[1, 2, 2, 1],\n",
    "                        strides=[1, 2, 2, 1], padding='SAME')\n",
    "\n",
    "def max_pool_3x3(x):\n",
    "  return tf.nn.max_pool(x, ksize=[1, 3, 3, 1],\n",
    "                        strides=[1, 3, 3, 1], padding='SAME')\n",
    "\n",
    "def max_pool_6x6(x):\n",
    "  return tf.nn.max_pool(x, ksize=[1, 3, 3, 1],\n",
    "                        strides=[1, 3, 3, 1], padding='SAME')\n"
   ]
  },
  {
   "cell_type": "markdown",
   "metadata": {},
   "source": [
    "# First Convolution Layer\n",
    "\n",
    "$W_1 = c \\times f_1 \\times f_1 \\times n_1$\n",
    "\n",
    "$B_1$ is of length $n_1$"
   ]
  },
  {
   "cell_type": "code",
   "execution_count": 104,
   "metadata": {
    "collapsed": false
   },
   "outputs": [
    {
     "data": {
      "text/plain": [
       "(<tf.Tensor 'Relu_34:0' shape=(?, 17, 29, 10) dtype=float32>,\n",
       " <tf.Tensor 'MaxPool_31:0' shape=(?, 9, 15, 10) dtype=float32>)"
      ]
     },
     "execution_count": 104,
     "metadata": {},
     "output_type": "execute_result"
    }
   ],
   "source": [
    "W_conv1 = weight_variable([3, 3, 15, 10])\n",
    "b_conv1 = bias_variable([10])\n",
    "h_conv1 = tf.nn.relu(conv2d(x, W_conv1) + b_conv1)\n",
    "h_pool1 = max_pool_2x2(h_conv1)\n",
    "h_conv1, h_pool1\n"
   ]
  },
  {
   "cell_type": "markdown",
   "metadata": {},
   "source": [
    "# Second Convolution Layer"
   ]
  },
  {
   "cell_type": "code",
   "execution_count": 105,
   "metadata": {
    "collapsed": false
   },
   "outputs": [
    {
     "data": {
      "text/plain": [
       "<tf.Tensor 'MaxPool_32:0' shape=(?, 4, 7, 5) dtype=float32>"
      ]
     },
     "execution_count": 105,
     "metadata": {},
     "output_type": "execute_result"
    }
   ],
   "source": [
    "W_conv2 = weight_variable([3, 3, 10, 5])\n",
    "b_conv2 = bias_variable([5])\n",
    "h_conv2 =  tf.nn.relu(conv2d(h_pool1, W_conv2) + b_conv2)\n",
    "h_pool2 = max_pool_2x2(h_conv2)\n",
    "h_pool2\n"
   ]
  },
  {
   "cell_type": "markdown",
   "metadata": {},
   "source": [
    "# Output Layer\n"
   ]
  },
  {
   "cell_type": "code",
   "execution_count": 106,
   "metadata": {
    "collapsed": false
   },
   "outputs": [],
   "source": [
    "_, d1, d2, d3 = h_pool2.get_shape()\n",
    "h2units = d1.value * d2.value * d3.value\n",
    "h_pool2_flat = tf.reshape(h_pool2, [-1, h2units])\n",
    "\n",
    "keep_prob = tf.placeholder(tf.float32)\n",
    "h_pool2_drop = tf.nn.dropout(h_pool2_flat, keep_prob)\n",
    "\n",
    "Wout = weight_variable([h2units, Ytrain.shape[1]])\n",
    "b_out = bias_variable([1])\n",
    "\n",
    "yout = tf.matmul(h_pool2_flat, Wout) + b_out \n",
    "\n"
   ]
  },
  {
   "cell_type": "code",
   "execution_count": null,
   "metadata": {
    "collapsed": false
   },
   "outputs": [],
   "source": []
  },
  {
   "cell_type": "code",
   "execution_count": 108,
   "metadata": {
    "collapsed": false
   },
   "outputs": [
    {
     "name": "stdout",
     "output_type": "stream",
     "text": [
      "step 0, training mse 1.74919, testing mse: 1.78737\n",
      "step 100, training mse 1.21752, testing mse: 0.989456\n",
      "step 200, training mse 0.530529, testing mse: 0.83139\n",
      "step 300, training mse 0.560389, testing mse: 0.800826\n",
      "step 400, training mse 0.803206, testing mse: 0.787612\n",
      "step 500, training mse 0.801432, testing mse: 0.783902\n",
      "step 600, training mse 0.679572, testing mse: 0.780611\n",
      "step 700, training mse 0.608777, testing mse: 0.780763\n",
      "step 800, training mse 0.622002, testing mse: 0.793654\n",
      "step 900, training mse 0.584459, testing mse: 0.781576\n",
      "step 1000, training mse 0.697407, testing mse: 0.770108\n",
      "step 1100, training mse 0.51896, testing mse: 0.775441\n",
      "step 1200, training mse 0.432421, testing mse: 0.769931\n",
      "step 1300, training mse 0.520106, testing mse: 0.783068\n",
      "step 1400, training mse 0.531924, testing mse: 0.761405\n",
      "step 1500, training mse 0.379031, testing mse: 0.78595\n",
      "step 1600, training mse 0.521999, testing mse: 0.748134\n",
      "step 1700, training mse 0.622162, testing mse: 0.77766\n",
      "step 1800, training mse 0.439009, testing mse: 0.773221\n",
      "step 1900, training mse 0.44967, testing mse: 0.759696\n",
      "step 2000, training mse 0.524729, testing mse: 0.779882\n",
      "step 2100, training mse 0.440823, testing mse: 0.805904\n",
      "step 2200, training mse 0.551863, testing mse: 0.78324\n",
      "step 2300, training mse 0.478832, testing mse: 0.807581\n",
      "step 2400, training mse 0.491955, testing mse: 0.804502\n",
      "step 2500, training mse 0.462342, testing mse: 0.797123\n",
      "step 2600, training mse 0.44842, testing mse: 0.808596\n",
      "step 2700, training mse 0.421975, testing mse: 0.821834\n",
      "step 2800, training mse 0.398459, testing mse: 0.789476\n",
      "step 2900, training mse 0.495418, testing mse: 0.811749\n",
      "step 3000, training mse 0.536252, testing mse: 0.816043\n",
      "step 3100, training mse 0.390976, testing mse: 0.828644\n",
      "step 3200, training mse 0.394117, testing mse: 0.816703\n",
      "step 3300, training mse 0.510765, testing mse: 0.820775\n",
      "step 3400, training mse 0.44845, testing mse: 0.821979\n",
      "step 3500, training mse 0.314874, testing mse: 0.816603\n",
      "step 3600, training mse 0.441705, testing mse: 0.819257\n",
      "step 3700, training mse 0.468503, testing mse: 0.851308\n",
      "step 3800, training mse 0.516923, testing mse: 0.843661\n",
      "step 3900, training mse 0.373101, testing mse: 0.863029\n",
      "step 4000, training mse 0.475546, testing mse: 0.861726\n",
      "step 4100, training mse 0.418995, testing mse: 0.854963\n",
      "step 4200, training mse 0.437603, testing mse: 0.86152\n",
      "step 4300, training mse 0.423206, testing mse: 0.886485\n",
      "step 4400, training mse 0.376938, testing mse: 0.876153\n",
      "step 4500, training mse 0.429488, testing mse: 0.853957\n",
      "step 4600, training mse 0.370229, testing mse: 0.86999\n",
      "step 4700, training mse 0.430724, testing mse: 0.892663\n",
      "step 4800, training mse 0.369876, testing mse: 0.88575\n",
      "step 4900, training mse 0.389649, testing mse: 0.864606\n",
      "train mse 0.409939\n",
      "test mse 1.05426\n"
     ]
    }
   ],
   "source": [
    "loss = tf.reduce_mean(tf.square((yout - y_)))\n",
    "train_step = tf.train.AdamOptimizer(1e-3).minimize(loss)\n",
    "\n",
    "#accuracy = tf.reduce_mean(tf.cast(correct_prediction, tf.float32))\n",
    "sess.run(tf.initialize_all_variables())\n",
    "\n",
    "for i in range(5000):\n",
    "  randidx = np.random.choice(range(Xtrain.shape[0]), 200)\n",
    "  if i % 100 == 0:\n",
    "    train_accuracy = loss.eval(feed_dict={\n",
    "        x: Xtrain[randidx], y_: Ytrain[randidx], keep_prob: 1.0})\n",
    "    test_accuracy = loss.eval(feed_dict={\n",
    "        x: Xtest[:100], y_: Ytest[:100], keep_prob: 1.0})\n",
    "    print(\"step %d, training mse %g, testing mse: %g\"%(i, train_accuracy, test_accuracy))\n",
    "  train_step.run(feed_dict={x: Xtrain[randidx], y_: Ytrain[randidx], keep_prob: 0.80})\n",
    "\n",
    "print(\"train mse %g\"%loss.eval(feed_dict={\n",
    "    x: Xtrain, y_: Ytrain, keep_prob: 1.0}))\n",
    "print(\"test mse %g\"%loss.eval(feed_dict={\n",
    "    x: Xtest, y_: Ytest, keep_prob: 1.0}))\n",
    "\n",
    "\n"
   ]
  },
  {
   "cell_type": "code",
   "execution_count": 109,
   "metadata": {
    "collapsed": false
   },
   "outputs": [],
   "source": [
    "idx = 10\n",
    "ypred = sess.run(yout, feed_dict={x: Xtest, keep_prob: 1})\n"
   ]
  },
  {
   "cell_type": "code",
   "execution_count": 110,
   "metadata": {
    "collapsed": false
   },
   "outputs": [
    {
     "name": "stdout",
     "output_type": "stream",
     "text": [
      "Test Mean 3.940318, Std: 8.505224\n",
      "Prediction Mean 3.940318, Std: 8.505224\n",
      "SpearmanrResult(correlation=0.54099148824834542, pvalue=0.0)\n",
      "Pearson (0.57633723485190047, 0.0)\n",
      "RMSE: 88.6212230777\n"
     ]
    },
    {
     "data": {
      "text/plain": [
       "<matplotlib.collections.PathCollection at 0x11fc44550>"
      ]
     },
     "execution_count": 110,
     "metadata": {},
     "output_type": "execute_result"
    },
    {
     "data": {
      "image/png": "[encoded data removed]",
      "text/plain": [
       "<matplotlib.figure.Figure at 0x12142dd50>"
      ]
     },
     "metadata": {},
     "output_type": "display_data"
    }
   ],
   "source": [
    "yhat = scale_y.inverse_transform(ypred) / 10\n",
    "ytest_true = scale_y.inverse_transform(Ytest) / 10\n",
    "\n",
    "from scipy.stats import pearsonr, spearmanr\n",
    "\n",
    "print \"Test Mean %f, Std: %f\" % (yhat.mean(), ytest_true.std())\n",
    "print \"Prediction Mean %f, Std: %f\" % (yhat.mean(), ytest_true.std())\n",
    "\n",
    "print spearmanr(yhat.flatten(), YtestTrue.flatten())\n",
    "print \"Pearson\", pearsonr(yhat.flatten(), YtestTrue.flatten())\n",
    "print \"RMSE:\", np.mean((yhat - YtestTrue)**2)**(0.5)\n",
    "plt.scatter(YtestTrue, yhat, alpha=0.01)\n"
   ]
  },
  {
   "cell_type": "markdown",
   "metadata": {},
   "source": [
    "# To Netcdf"
   ]
  },
  {
   "cell_type": "code",
   "execution_count": 111,
   "metadata": {
    "collapsed": false
   },
   "outputs": [
    {
     "name": "stdout",
     "output_type": "stream",
     "text": [
      "(920, 266) (920, 266) (266, 2) (3220,)\n"
     ]
    },
    {
     "data": {
      "text/plain": [
       "<xray.Dataset>\n",
       "Dimensions:       (lat: 24, lon: 27, time: 920)\n",
       "Coordinates:\n",
       "  * lat           (lat) float64 41.12 41.38 41.62 41.88 42.12 42.38 42.62 ...\n",
       "  * lon           (lon) float64 286.4 286.6 286.9 287.1 287.4 287.6 287.9 ...\n",
       "  * time          (time) datetime64[ns] 2005-06-01 2005-06-02 2005-06-03 ...\n",
       "Data variables:\n",
       "    ground_truth  (lat, lon, time) float64 0.0 0.0 0.0 87.98 0.6216 0.0 ...\n",
       "    projected     (lat, lon, time) float64 0.8872 1.732 6.583 4.783 -0.6235 ..."
      ]
     },
     "execution_count": 111,
     "metadata": {},
     "output_type": "execute_result"
    }
   ],
   "source": [
    "dfdata = []\n",
    "print ypred.shape, Ytest.shape, locs.shape, t.shape\n",
    "for j, (lat, lon) in enumerate(locs.values):\n",
    "    for i, t1 in enumerate(ttest.values):\n",
    "        d = dict(lat=lat, lon=lon, time=t1, projected=yhat[i,j], ground_truth=YtestTrue[i,j])\n",
    "        dfdata.append(d)\n",
    "df = pd.DataFrame(dfdata)\n",
    "df.set_index([\"lat\", \"lon\", \"time\"], inplace=True)\n",
    "dfx = xr.Dataset.from_dataframe(df)\n",
    "dfx\n"
   ]
  },
  {
   "cell_type": "code",
   "execution_count": 112,
   "metadata": {
    "collapsed": false
   },
   "outputs": [
    {
     "name": "stdout",
     "output_type": "stream",
     "text": [
      "<xray.Dataset>\n",
      "Dimensions:       (lat: 24, lon: 27, time: 920)\n",
      "Coordinates:\n",
      "  * lat           (lat) float64 41.12 41.38 41.62 41.88 42.12 42.38 42.62 ...\n",
      "  * lon           (lon) float64 286.4 286.6 286.9 287.1 287.4 287.6 287.9 ...\n",
      "  * time          (time) datetime64[ns] 2005-06-01 2005-06-02 2005-06-03 ...\n",
      "Data variables:\n",
      "    ground_truth  (lat, lon, time) float64 0.0 0.0 0.0 87.98 0.6216 0.0 ...\n",
      "    projected     (lat, lon, time) float64 0.8872 1.732 6.583 4.783 -0.6235 ...\n",
      "    error         (lat, lon, time) float64 0.8872 1.732 6.583 -83.2 -1.245 ...\n"
     ]
    }
   ],
   "source": [
    "dfx['error'] = dfx.projected - dfx.ground_truth\n",
    "print dfx\n",
    "dfx.to_netcdf(\"/Users/tj/repos/pydownscale/scripts/results-data/%s/CNN_D_%s.nc\" % (seas, seas))\n",
    "\n",
    "\n"
   ]
  },
  {
   "cell_type": "code",
   "execution_count": null,
   "metadata": {
    "collapsed": true
   },
   "outputs": [],
   "source": []
  }
 ],
 "metadata": {
  "kernelspec": {
   "display_name": "Python 2",
   "language": "python",
   "name": "python2"
  },
  "language_info": {
   "codemirror_mode": {
    "name": "ipython",
    "version": 2
   },
   "file_extension": ".py",
   "mimetype": "text/x-python",
   "name": "python",
   "nbconvert_exporter": "python",
   "pygments_lexer": "ipython2",
   "version": "2.7.11"
  }
 },
 "nbformat": 4,
 "nbformat_minor": 0
}
